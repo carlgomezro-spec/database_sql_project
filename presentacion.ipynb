{
 "cells": [
  {
   "cell_type": "markdown",
   "id": "e4e8045f",
   "metadata": {},
   "source": [
    "# ❓QUERIES:\n",
    "## Ejemplos de consultas en nuestra BBDD"
   ]
  },
  {
   "cell_type": "markdown",
   "id": "9244d994",
   "metadata": {},
   "source": [
    "**¿Hay más profesores que imparten clase online o presencial?**"
   ]
  },
  {
   "cell_type": "code",
   "execution_count": 92,
   "id": "159d1a55",
   "metadata": {},
   "outputs": [
    {
     "data": {
      "text/plain": [
       "'\\nSELECT COUNT(c.nombre)\\nFROM profesor AS g\\nLEFT JOIN modalidad AS c ON g.id_modalidad = c.id_modalidad\\nGROUP BY c.nombre\\n;\\n'"
      ]
     },
     "execution_count": 92,
     "metadata": {},
     "output_type": "execute_result"
    }
   ],
   "source": [
    "'''\n",
    "SELECT COUNT(c.nombre)\n",
    "FROM profesor AS g\n",
    "LEFT JOIN modalidad AS c ON g.id_modalidad = c.id_modalidad\n",
    "GROUP BY c.nombre\n",
    ";\n",
    "'''"
   ]
  },
  {
   "cell_type": "markdown",
   "id": "ebed6693",
   "metadata": {},
   "source": [
    "**¿Existen más alumnos en las convocatorias de febrero o de septiembre?**"
   ]
  },
  {
   "cell_type": "code",
   "execution_count": 84,
   "id": "00e1f48b",
   "metadata": {},
   "outputs": [
    {
     "data": {
      "text/plain": [
       "\"\\nSELECT\\n    p.nombre as convocatoria,\\n    COUNT(*) as total_alumnos\\nFROM alumnos a\\nJOIN promocion p ON a.id_promocion = p.id_promocion\\nWHERE p.nombre IN ('Febrero', 'Septiembre')\\nGROUP BY p.nombre\\nORDER BY total_alumnos DESC;\\n\""
      ]
     },
     "execution_count": 84,
     "metadata": {},
     "output_type": "execute_result"
    }
   ],
   "source": [
    "'''\n",
    "SELECT\n",
    "    p.nombre as convocatoria,\n",
    "    COUNT(*) as total_alumnos\n",
    "FROM alumnos a\n",
    "JOIN promocion p ON a.id_promocion = p.id_promocion\n",
    "WHERE p.nombre IN ('Febrero', 'Septiembre')\n",
    "GROUP BY p.nombre\n",
    "ORDER BY total_alumnos DESC;\n",
    "'''"
   ]
  },
  {
   "cell_type": "markdown",
   "id": "102188ac",
   "metadata": {},
   "source": [
    "**¿Hay algún profesor que de clase a FS y DS?**"
   ]
  },
  {
   "cell_type": "code",
   "execution_count": 85,
   "id": "12fec2ec",
   "metadata": {},
   "outputs": [
    {
     "data": {
      "text/plain": [
       "'\\nSELECT EXISTS (\\n    SELECT 1\\n    FROM profesor p\\n    GROUP BY p.nombre_profesor\\n    HAVING COUNT(DISTINCT p.id_vertical) > 1\\n) as hay_profesor_multivertical;\\n'"
      ]
     },
     "execution_count": 85,
     "metadata": {},
     "output_type": "execute_result"
    }
   ],
   "source": [
    "'''\n",
    "SELECT EXISTS (\n",
    "    SELECT 1\n",
    "    FROM profesor p\n",
    "    GROUP BY p.nombre_profesor\n",
    "    HAVING COUNT(DISTINCT p.id_vertical) > 1\n",
    ") as hay_profesor_multivertical;\n",
    "'''"
   ]
  },
  {
   "cell_type": "markdown",
   "id": "2b737f01",
   "metadata": {},
   "source": [
    "**¿Cuántos proyectos aprobó el alumno con el mail: Alejandra_Vilaplana@gmail.com?**"
   ]
  },
  {
   "cell_type": "code",
   "execution_count": 86,
   "id": "77f48703",
   "metadata": {},
   "outputs": [
    {
     "data": {
      "text/plain": [
       "\"\\nSELECT COUNT(*) as proyectos_aprobados\\nFROM alumnos a\\nJOIN evaluacion e ON a.id_alumno = e.id_alumno\\nWHERE a.email = 'Alejandra_Vilaplana@gmail.com'\\n  AND e.resultado = 'APTO';\\n\""
      ]
     },
     "execution_count": 86,
     "metadata": {},
     "output_type": "execute_result"
    }
   ],
   "source": [
    "'''\n",
    "SELECT COUNT(*) as proyectos_aprobados\n",
    "FROM alumnos a\n",
    "JOIN evaluacion e ON a.id_alumno = e.id_alumno\n",
    "WHERE a.email = 'Alejandra_Vilaplana@gmail.com'\n",
    "  AND e.resultado = 'APTO';\n",
    "'''"
   ]
  },
  {
   "cell_type": "markdown",
   "id": "385b5d2b",
   "metadata": {},
   "source": [
    "**¿Cuántos alumnos matriculados en 2024 han suspendido Proyecto_Deployment?**"
   ]
  },
  {
   "cell_type": "code",
   "execution_count": 87,
   "id": "0d4a1d7d",
   "metadata": {},
   "outputs": [
    {
     "data": {
      "text/plain": [
       "\"\\nSELECT COUNT(*) as alumnos_suspendidos_2024\\nFROM alumnos a\\nJOIN evaluacion e ON a.id_alumno = e.id_alumno\\nJOIN proyecto p ON e.id_proyecto = p.id_proyecto\\nJOIN promocion pr ON a.id_promocion = pr.id_promocion\\nWHERE p.nombre = 'Proyecto_Deployment'\\n  AND e.resultado = 'NO APTO'\\n  AND EXTRACT(YEAR FROM pr.fecha_inicio) = 2024;\\n\""
      ]
     },
     "execution_count": 87,
     "metadata": {},
     "output_type": "execute_result"
    }
   ],
   "source": [
    "'''\n",
    "SELECT COUNT(*) as alumnos_suspendidos_2024\n",
    "FROM alumnos a\n",
    "JOIN evaluacion e ON a.id_alumno = e.id_alumno\n",
    "JOIN proyecto p ON e.id_proyecto = p.id_proyecto\n",
    "JOIN promocion pr ON a.id_promocion = pr.id_promocion\n",
    "WHERE p.nombre = 'Proyecto_Deployment'\n",
    "  AND e.resultado = 'NO APTO'\n",
    "  AND EXTRACT(YEAR FROM pr.fecha_inicio) = 2024;\n",
    "'''"
   ]
  },
  {
   "cell_type": "markdown",
   "id": "93cd7140",
   "metadata": {},
   "source": [
    "**Nombres de los Teacher Assistant cuyo nombre empiece por \"A\":**"
   ]
  },
  {
   "cell_type": "code",
   "execution_count": 89,
   "id": "da4f2a25",
   "metadata": {},
   "outputs": [
    {
     "data": {
      "text/plain": [
       "\"\\nSELECT profesor.nombre_profesor,\\n\\tprofesor.apellido_profesor\\nFROM profesor\\nWHERE rol = 'TA'\\n  AND nombre_profesor ILIKE 'A%';\\n \""
      ]
     },
     "execution_count": 89,
     "metadata": {},
     "output_type": "execute_result"
    }
   ],
   "source": [
    "'''\n",
    "SELECT profesor.nombre_profesor,\n",
    "\tprofesor.apellido_profesor\n",
    "FROM profesor\n",
    "WHERE rol = 'TA'\n",
    "  AND nombre_profesor ILIKE 'A%';\n",
    " '''"
   ]
  },
  {
   "cell_type": "markdown",
   "id": "16b474f7",
   "metadata": {},
   "source": [
    "**Alumnos que han aprobado el Proyecto_EDA en modalidad online:**"
   ]
  },
  {
   "cell_type": "code",
   "execution_count": null,
   "id": "22f76d7e",
   "metadata": {},
   "outputs": [
    {
     "data": {
      "text/plain": [
       "\"\\nSELECT DISTINCT\\n  alumnos.id_alumno,\\n  alumnos.nombre_alumno,\\n  alumnos.apellido_alumno,\\n  alumnos.email AS email_alumno,\\n  proyecto.id_proyecto,\\n  proyecto.nombre AS nombre_proyecto,\\n  evaluacion.id_evaluacion,\\n  evaluacion.resultado,\\n  modalidad.nombre AS nombre_modalidad\\nFROM evaluacion\\nJOIN alumnos\\n  ON evaluacion.id_alumno = alumnos.id_alumno\\nJOIN proyecto\\n  ON evaluacion.id_proyecto = proyecto.id_proyecto\\nJOIN profesor\\n  ON profesor.id_vertical = profesor.id_vertical -- si existe relación con proyecto, cámbiala aquí\\nJOIN modalidad\\n  ON profesor.id_modalidad = modalidad.id_modalidad\\nWHERE proyecto.nombre = 'Proyecto_EDA'\\nAND modalidad.nombre = 'Online'\\nAND evaluacion.resultado = 'APTO'\\nORDER BY alumnos.nombre_alumno, alumnos.apellido_alumno\\n\""
      ]
     },
     "execution_count": 90,
     "metadata": {},
     "output_type": "execute_result"
    }
   ],
   "source": [
    "'''\n",
    "SELECT DISTINCT\n",
    "  alumnos.id_alumno,\n",
    "  alumnos.nombre_alumno,\n",
    "  alumnos.apellido_alumno,\n",
    "  alumnos.email AS email_alumno,\n",
    "  proyecto.id_proyecto,\n",
    "  proyecto.nombre AS nombre_proyecto,\n",
    "  evaluacion.id_evaluacion,\n",
    "  evaluacion.resultado,\n",
    "  modalidad.nombre AS nombre_modalidad\n",
    "FROM evaluacion\n",
    "JOIN alumnos\n",
    "  ON evaluacion.id_alumno = alumnos.id_alumno\n",
    "JOIN proyecto\n",
    "  ON evaluacion.id_proyecto = proyecto.id_proyecto\n",
    "JOIN profesor\n",
    "  ON profesor.id_vertical = profesor.id_vertical\n",
    "JOIN modalidad\n",
    "  ON profesor.id_modalidad = modalidad.id_modalidad\n",
    "WHERE proyecto.nombre = 'Proyecto_EDA'\n",
    "AND modalidad.nombre = 'Online'\n",
    "AND evaluacion.resultado = 'APTO'\n",
    "ORDER BY alumnos.nombre_alumno, alumnos.apellido_alumno\n",
    "'''"
   ]
  },
  {
   "cell_type": "markdown",
   "id": "0926b32c",
   "metadata": {},
   "source": [
    "**Nombres de los alumnos matriculados en la promoción de febrero:**"
   ]
  },
  {
   "cell_type": "code",
   "execution_count": 97,
   "id": "1c25dc1c",
   "metadata": {},
   "outputs": [
    {
     "data": {
      "text/plain": [
       "\"\\nSELECT DISTINCT\\n  profesor.id_profesor,\\n  profesor.nombre_profesor,\\n  profesor.apellido_profesor,\\n\\tpromocion.nombre\\nFROM alumnos\\nJOIN promocion\\n  ON alumnos.id_promocion = promocion.id_promocion\\nJOIN profesor\\n  ON promocion.id_campus = profesor.id_campus\\nWHERE promocion.nombre = 'Febrero'\\nORDER BY profesor.apellido_profesor, profesor.nombre_profesor;\\n\""
      ]
     },
     "execution_count": 97,
     "metadata": {},
     "output_type": "execute_result"
    }
   ],
   "source": [
    "'''\n",
    "SELECT DISTINCT\n",
    "  profesor.id_profesor,\n",
    "  profesor.nombre_profesor,\n",
    "  profesor.apellido_profesor,\n",
    "\tpromocion.nombre\n",
    "FROM alumnos\n",
    "JOIN promocion\n",
    "  ON alumnos.id_promocion = promocion.id_promocion\n",
    "JOIN profesor\n",
    "  ON promocion.id_campus = profesor.id_campus\n",
    "WHERE promocion.nombre = 'Febrero'\n",
    "ORDER BY profesor.apellido_profesor, profesor.nombre_profesor;\n",
    "'''"
   ]
  }
 ],
 "metadata": {
  "kernelspec": {
   "display_name": "Python 3",
   "language": "python",
   "name": "python3"
  },
  "language_info": {
   "codemirror_mode": {
    "name": "ipython",
    "version": 3
   },
   "file_extension": ".py",
   "mimetype": "text/x-python",
   "name": "python",
   "nbconvert_exporter": "python",
   "pygments_lexer": "ipython3",
   "version": "3.14.0"
  }
 },
 "nbformat": 4,
 "nbformat_minor": 5
}
